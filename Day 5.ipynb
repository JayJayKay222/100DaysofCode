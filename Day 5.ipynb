{
 "cells": [
  {
   "cell_type": "markdown",
   "id": "ff058c24",
   "metadata": {},
   "source": [
    "### 👨‍💻 Day 5 of 100DaysofPythonCode 🐍\n",
    "    -  Loops\n",
    "    - Calculating average and maximum using loop\n",
    "    - FizzBuzz game  \n",
    "    - Password Generator"
   ]
  },
  {
   "cell_type": "code",
   "execution_count": 1,
   "id": "9393148b",
   "metadata": {},
   "outputs": [
    {
     "name": "stdout",
     "output_type": "stream",
     "text": [
      "Lagos\n",
      "Abeokuta\n",
      "Abuja\n",
      "Borno\n",
      "Oyo\n"
     ]
    }
   ],
   "source": [
    "ng_states = [\"Lagos\", \"Abeokuta\", \"Abuja\", \"Borno\", \"Oyo\"]\n",
    "for state in ng_states:\n",
    "    print(state)"
   ]
  },
  {
   "cell_type": "code",
   "execution_count": 16,
   "id": "9d6bb334",
   "metadata": {},
   "outputs": [
    {
     "name": "stdout",
     "output_type": "stream",
     "text": [
      "Input a list of student height120 135 145 118 162 184\n",
      "The average height of the students is 144.\n"
     ]
    }
   ],
   "source": [
    "# Average Height\n",
    "student_height = input(\"Input a list of student height\").split()\n",
    "\n",
    "for n in range(0, len(student_height)):\n",
    "    student_height[n] = int(student_height[n])\n",
    "students = 0\n",
    "for i in student_height:\n",
    "    students += i\n",
    "\n",
    "heights = 0\n",
    "for height in student_height:\n",
    "    heights += 1\n",
    "\n",
    "average = round(students / heights)\n",
    "print(f\"The average height of the students is {average}.\")"
   ]
  },
  {
   "cell_type": "code",
   "execution_count": 26,
   "id": "3ae166d1",
   "metadata": {},
   "outputs": [
    {
     "name": "stdout",
     "output_type": "stream",
     "text": [
      "Input the list of student scores67 59 78 93 84 89 78 85\n",
      "The highest score in the class is: 93.\n"
     ]
    }
   ],
   "source": [
    "# students score\n",
    "student_scores = input(\"Input the list of student scores\").split()\n",
    "\n",
    "for n in range(0, len(student_scores)):\n",
    "    student_scores[n] = int(student_scores[n])\n",
    "\n",
    "highest_score = 0\n",
    "for score in student_scores:\n",
    "    if score > highest_score:\n",
    "        highest_score = score\n",
    "print(f\"The highest score in the class is: {highest_score}.\")        \n"
   ]
  },
  {
   "cell_type": "code",
   "execution_count": 28,
   "id": "b0004e71",
   "metadata": {},
   "outputs": [
    {
     "name": "stdout",
     "output_type": "stream",
     "text": [
      "5050\n"
     ]
    }
   ],
   "source": [
    "total = 0\n",
    "for number in range(0, 101):\n",
    "    total += number \n",
    "print(total)"
   ]
  },
  {
   "cell_type": "code",
   "execution_count": 29,
   "id": "c531b9d6",
   "metadata": {},
   "outputs": [
    {
     "name": "stdout",
     "output_type": "stream",
     "text": [
      "2550\n"
     ]
    }
   ],
   "source": [
    "# adding evens\n",
    "total = 0\n",
    "for even in range(0, 101):\n",
    "    if even % 2 == 0:\n",
    "        total += even\n",
    "print(total)        "
   ]
  },
  {
   "cell_type": "markdown",
   "id": "689a5fe4",
   "metadata": {},
   "source": [
    "##### FizzBuzz\n"
   ]
  },
  {
   "cell_type": "code",
   "execution_count": 31,
   "id": "13803346",
   "metadata": {},
   "outputs": [
    {
     "name": "stdout",
     "output_type": "stream",
     "text": [
      "1\n",
      "2\n",
      "Fizz\n",
      "4\n",
      "Buzz\n",
      "Fizz\n",
      "7\n",
      "8\n",
      "Fizz\n",
      "Buzz\n",
      "11\n",
      "Fizz\n",
      "13\n",
      "14\n",
      "FizzBuzz\n",
      "16\n",
      "17\n",
      "Fizz\n",
      "19\n",
      "Buzz\n",
      "Fizz\n",
      "22\n",
      "23\n",
      "Fizz\n",
      "Buzz\n",
      "26\n",
      "Fizz\n",
      "28\n",
      "29\n",
      "FizzBuzz\n",
      "31\n",
      "32\n",
      "Fizz\n",
      "34\n",
      "Buzz\n",
      "Fizz\n",
      "37\n",
      "38\n",
      "Fizz\n",
      "Buzz\n",
      "41\n",
      "Fizz\n",
      "43\n",
      "44\n",
      "FizzBuzz\n",
      "46\n",
      "47\n",
      "Fizz\n",
      "49\n",
      "Buzz\n",
      "Fizz\n",
      "52\n",
      "53\n",
      "Fizz\n",
      "Buzz\n",
      "56\n",
      "Fizz\n",
      "58\n",
      "59\n",
      "FizzBuzz\n",
      "61\n",
      "62\n",
      "Fizz\n",
      "64\n",
      "Buzz\n",
      "Fizz\n",
      "67\n",
      "68\n",
      "Fizz\n",
      "Buzz\n",
      "71\n",
      "Fizz\n",
      "73\n",
      "74\n",
      "FizzBuzz\n",
      "76\n",
      "77\n",
      "Fizz\n",
      "79\n",
      "Buzz\n",
      "Fizz\n",
      "82\n",
      "83\n",
      "Fizz\n",
      "Buzz\n",
      "86\n",
      "Fizz\n",
      "88\n",
      "89\n",
      "FizzBuzz\n",
      "91\n",
      "92\n",
      "Fizz\n",
      "94\n",
      "Buzz\n",
      "Fizz\n",
      "97\n",
      "98\n",
      "Fizz\n",
      "Buzz\n"
     ]
    }
   ],
   "source": [
    "\n",
    "for i in range(1, 101):\n",
    "    if i % 3 == 0 and i % 5 == 0:\n",
    "        print(\"FizzBuzz\")\n",
    "    elif i % 3 == 0:\n",
    "        print(\"Fizz\")\n",
    "    elif i % 5 == 0:\n",
    "        print(\"Buzz\")\n",
    "    else:\n",
    "        print(i)"
   ]
  },
  {
   "cell_type": "markdown",
   "id": "821e7b98",
   "metadata": {},
   "source": [
    "#### Project 5:\n",
    "##### - Password Generator"
   ]
  },
  {
   "cell_type": "code",
   "execution_count": 54,
   "id": "1a3fdc89",
   "metadata": {},
   "outputs": [
    {
     "name": "stdout",
     "output_type": "stream",
     "text": [
      "Welcome to the PyPassword Generator!\n",
      "How many letters would you like in your password?\n",
      "4\n",
      "How many symbols would you like?\n",
      "3\n",
      "How many numbers would you like?\n",
      "2\n",
      "None\n",
      "Your password is lE3Tp9$!\n"
     ]
    }
   ],
   "source": [
    "import random\n",
    "\n",
    "letters = ['a', 'b', 'c', 'd', 'e', 'f', 'g', 'h', 'i', 'j', 'k', 'l', 'm', 'n', 'o', 'p', 'q', 'r', 's', 't', 'u', 'v', 'w', 'x', 'y', 'z', 'A', 'B', 'C', 'D', 'E', 'F', 'G', 'H', 'I', 'J', 'K', 'L', 'M', 'N', 'O', 'P', 'Q', 'R', 'S', 'T', 'U', 'V', 'W', 'X', 'Y', 'Z']\n",
    "numbers = ['0', '1', '2', '3', '4', '5', '6', '7', '8', '9']\n",
    "symbols = ['!', '#', '$', '%', '&', '(', ')', '*', '+']\n",
    "\n",
    "print(\"Welcome to the PyPassword Generator!\")\n",
    "nr_letters= int(input(\"How many letters would you like in your password?\\n\")) \n",
    "nr_symbols = int(input(f\"How many symbols would you like?\\n\"))\n",
    "nr_numbers = int(input(f\"How many numbers would you like?\\n\"))\n",
    "\n",
    "password = []\n",
    "for char in range(1, nr_letters + 1):\n",
    "    password.append(random.choice(letters))\n",
    "\n",
    "for char in range(1, nr_numbers + 1):\n",
    "    password += random.choice(numbers)\n",
    "              \n",
    "for char in range(1, nr_symbols):\n",
    "    password += random.choice(symbols)\n",
    "                              \n",
    "print(random.shuffle(password))\n",
    "\n",
    "passwordd = \"\"\n",
    "for char in password:\n",
    "    passwordd += char\n",
    "print(f\"Your password is {passwordd}\")"
   ]
  },
  {
   "cell_type": "markdown",
   "id": "f6f627df",
   "metadata": {},
   "source": []
  }
 ],
 "metadata": {
  "kernelspec": {
   "display_name": "Python 3 (ipykernel)",
   "language": "python",
   "name": "python3"
  },
  "language_info": {
   "codemirror_mode": {
    "name": "ipython",
    "version": 3
   },
   "file_extension": ".py",
   "mimetype": "text/x-python",
   "name": "python",
   "nbconvert_exporter": "python",
   "pygments_lexer": "ipython3",
   "version": "3.10.9"
  }
 },
 "nbformat": 4,
 "nbformat_minor": 5
}
