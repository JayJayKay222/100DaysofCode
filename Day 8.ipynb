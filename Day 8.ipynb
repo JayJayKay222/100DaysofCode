{
 "cells": [
  {
   "cell_type": "markdown",
   "id": "d7f64b32",
   "metadata": {},
   "source": [
    "### Functions"
   ]
  },
  {
   "cell_type": "code",
   "execution_count": 1,
   "id": "a9bc9f91",
   "metadata": {},
   "outputs": [
    {
     "name": "stdout",
     "output_type": "stream",
     "text": [
      "Hello Joseph!\n",
      "Happy New Year!\n",
      "How are you today?\n"
     ]
    }
   ],
   "source": [
    "def greet():\n",
    "    print(\"Hello Joseph!\")\n",
    "    print(\"Happy New Year!\")\n",
    "    print(\"How are you today?\")\n",
    "greet()    "
   ]
  },
  {
   "cell_type": "code",
   "execution_count": 2,
   "id": "4c03dec8",
   "metadata": {},
   "outputs": [
    {
     "name": "stdout",
     "output_type": "stream",
     "text": [
      "Hello Joseph!\n",
      "Happy New Year!\n",
      "How are you today Joseph?\n"
     ]
    }
   ],
   "source": [
    "# function + arguments\n",
    "\"\"\"\n",
    "def func_name(parameter):\n",
    "    do something\n",
    "    \n",
    "func_name(argument)\n",
    "\"\"\"\n",
    "def greet_with_name(name):\n",
    "    print(f\"Hello {name}!\")\n",
    "    print(\"Happy New Year!\")\n",
    "    print(f\"How are you today {name}?\")\n",
    "greet_with_name(\"Joseph\")    "
   ]
  },
  {
   "cell_type": "code",
   "execution_count": 3,
   "id": "6605cb99",
   "metadata": {},
   "outputs": [
    {
     "name": "stdout",
     "output_type": "stream",
     "text": [
      "Hello, Joseph.\n",
      "What's it like in Abeokuta?\n",
      "\n",
      "Hello, Helen.\n",
      "What's it like in Lagos?\n",
      "\n"
     ]
    }
   ],
   "source": [
    "# Positional vs Keyword arguments\n",
    "\n",
    "def greeting(name, location):\n",
    "    print(f\"Hello, {name}.\")\n",
    "    print(f\"What's it like in {location}?\\n\")\n",
    "greeting(\"Joseph\",\"Abeokuta\")    # positional\n",
    "\n",
    "greeting(location=\"Lagos\",name=\"Helen\") # keyword"
   ]
  },
  {
   "cell_type": "markdown",
   "id": "2582d6da",
   "metadata": {},
   "source": [
    "#### Paint Area Calculator"
   ]
  },
  {
   "cell_type": "code",
   "execution_count": 4,
   "id": "d4185fd6",
   "metadata": {},
   "outputs": [
    {
     "name": "stdout",
     "output_type": "stream",
     "text": [
      "Height of wall: 4\n",
      "Width of wall: 15\n",
      "You'll need 12 of paint.\n"
     ]
    }
   ],
   "source": [
    "import math\n",
    "\n",
    "test_h = int(input(\"Height of wall: \"))\n",
    "test_w = int(input(\"Width of wall: \"))\n",
    "coverage = 5\n",
    "\n",
    "def paint_calc(height, width, cover):\n",
    "    number_of_cans = math.ceil(height * width / cover)\n",
    "    \n",
    "    print(f\"You'll need {number_of_cans} of paint.\")\n",
    "    \n",
    "paint_calc(height=test_h, width=test_w, cover=coverage)    "
   ]
  },
  {
   "cell_type": "markdown",
   "id": "65cf965a",
   "metadata": {},
   "source": [
    "#### Prime Number checker"
   ]
  },
  {
   "cell_type": "code",
   "execution_count": 5,
   "id": "f239f3d8",
   "metadata": {},
   "outputs": [
    {
     "name": "stdout",
     "output_type": "stream",
     "text": [
      "Check this number: 27\n",
      "27 is not a prime number.\n"
     ]
    }
   ],
   "source": [
    "def prime_checker(number):\n",
    "    is_prime = True\n",
    "    for i in range(2, number):\n",
    "        if n % i == 0:\n",
    "            is_prime = False\n",
    "            \n",
    "    if is_prime:\n",
    "        print(f\"{n} is a prime number.\")\n",
    "    else:\n",
    "        print(f\"{n} is not a prime number.\")\n",
    "\n",
    "n = int(input(\"Check this number: \"))\n",
    "prime_checker(number=n)"
   ]
  },
  {
   "cell_type": "markdown",
   "id": "ec740abb",
   "metadata": {},
   "source": [
    "#### Ceaser Cipher"
   ]
  },
  {
   "cell_type": "code",
   "execution_count": 12,
   "id": "44833172",
   "metadata": {},
   "outputs": [
    {
     "name": "stdout",
     "output_type": "stream",
     "text": [
      "           \n",
      " ,adPPYba, ,adPPYYba,  ,adPPYba, ,adPPYba, ,adPPYYba, 8b,dPPYba,  \n",
      "a8\"     \"\" \"\"     `Y8 a8P_____88 I8[    \"\" \"\"     `Y8 88P'   \"Y8  \n",
      "8b         ,adPPPPP88 8PP\"  `\"Y8ba,  ,adPPPPP88 88          \n",
      "\"8a,   ,aa 88,    ,88 \"8b,   ,aa aa    ]8I 88,    ,88 88          \n",
      " `\"Ybbd8\"' `\"8bbdP\"Y8  `\"Ybbd8\"' `\"YbbdP\"' `\"8bbdP\"Y8 88   \n",
      "            88             88                                 \n",
      "           \"\"             88                                 \n",
      "                          88                                 \n",
      " ,adPPYba, 88 8b,dPPYba,  88,dPPYba,   ,adPPYba, 8b,dPPYba,  \n",
      "a8\"     \"\" 88 88P'    \"8a 88P'    \"8a a8P_____88 88P'   \"Y8  \n",
      "8b         88 88       d8 88       88 8PP\" 88          \n",
      "\"8a,   ,aa 88 88b,   ,a8\" 88       88 \"8b,   ,aa 88          \n",
      " `\"Ybbd8\"' 88 88`YbbdP\"'  88       88  `\"Ybbd8\"' 88          \n",
      "              88                                             \n",
      "              88           \n",
      "\n",
      "Type 'encode' to encrypt, type 'decode' to decrypt the message:\n",
      "encode\n",
      "Type your message:\n",
      "Happy New Year!\n",
      "Type the shift number:\n",
      "3\n",
      "The encode text is kdssb qhz bhdu!.\n",
      "Type 'yes' if you want to go again. Otherwise type 'no'.\n",
      "yes\n",
      "Type 'encode' to encrypt, type 'decode' to decrypt the message:\n",
      "decode\n",
      "Type your message:\n",
      "kdssb qhz bhdu!\n",
      "Type the shift number:\n",
      "3\n",
      "The decode text is happy new year!.\n",
      "Type 'yes' if you want to go again. Otherwise type 'no'.\n",
      "no\n",
      "Goodbye!\n"
     ]
    }
   ],
   "source": [
    "alphabet = ['a', 'b', 'c', 'd', 'e', 'f', 'g', 'h', 'i', 'j', 'k', 'l', 'm',\n",
    "            'n', 'o','p', 'q', 'r', 's', 't', 'u', 'v', 'w', 'x', 'y', 'z', \n",
    "           'a', 'b', 'c', 'd', 'e', 'f', 'g', 'h', 'i', 'j', 'k', 'l', 'm',\n",
    "            'n', 'o','p', 'q', 'r', 's', 't', 'u', 'v', 'w', 'x', 'y', 'z']\n",
    "\n",
    "\n",
    "\n",
    "\n",
    "def ceaser(original_text, shift_number, direction):\n",
    "    result_text = \"\"\n",
    "    if direction == \"decode\":\n",
    "            shift_number *= -1\n",
    "    for i in original_text:\n",
    "        \n",
    "        if i in alphabet:\n",
    "            pos = alphabet.index(i)\n",
    "            new_pos = pos + shift_number\n",
    "            result_text += alphabet[new_pos]\n",
    "        else:\n",
    "            result_text += i            \n",
    "    print(f\"The {direction} text is {result_text}.\")  \n",
    "    \n",
    "from art import logo\n",
    "print(logo)\n",
    "\n",
    "should_end = False\n",
    "while not should_end:\n",
    "    direction = input(\"Type 'encode' to encrypt, type 'decode' to decrypt the message:\\n\")\n",
    "    text = input(\"Type your message:\\n\").lower()\n",
    "    shift = int(input(\"Type the shift number:\\n\"))\n",
    "    \n",
    "    shift = shift % 26\n",
    "\n",
    "\n",
    "               \n",
    "    ceaser(original_text = text, shift_number = shift, direction = direction) \n",
    "    restart = input(\"Type 'yes' if you want to go again. Otherwise type 'no'.\\n\")\n",
    "    if restart == \"no\":\n",
    "        should_end = True\n",
    "        print(\"Goodbye!\")"
   ]
  },
  {
   "cell_type": "code",
   "execution_count": null,
   "id": "028deebd",
   "metadata": {},
   "outputs": [],
   "source": []
  },
  {
   "cell_type": "code",
   "execution_count": null,
   "id": "e90f386f",
   "metadata": {},
   "outputs": [],
   "source": []
  }
 ],
 "metadata": {
  "kernelspec": {
   "display_name": "Python 3 (ipykernel)",
   "language": "python",
   "name": "python3"
  },
  "language_info": {
   "codemirror_mode": {
    "name": "ipython",
    "version": 3
   },
   "file_extension": ".py",
   "mimetype": "text/x-python",
   "name": "python",
   "nbconvert_exporter": "python",
   "pygments_lexer": "ipython3",
   "version": "3.10.9"
  }
 },
 "nbformat": 4,
 "nbformat_minor": 5
}
