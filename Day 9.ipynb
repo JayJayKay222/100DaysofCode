{
 "cells": [
  {
   "cell_type": "markdown",
   "id": "1e832154",
   "metadata": {},
   "source": [
    "### Dictionary"
   ]
  },
  {
   "cell_type": "code",
   "execution_count": 3,
   "id": "279257a2",
   "metadata": {},
   "outputs": [
    {
     "name": "stdout",
     "output_type": "stream",
     "text": [
      "An error in a program that prevents the programm= from running as expected\n",
      "Bug\n",
      "A moth in your computer\n",
      "Function\n",
      "A piece of code that you can easily call over and over again\n",
      "Loop\n",
      "The action of doing something over and over again\n"
     ]
    }
   ],
   "source": [
    "#  {key: value}\n",
    "\n",
    "programming_dict = {\n",
    " \"Bug\": \"An error in a program that prevents the programm= from running as expected\",\n",
    " \"Function\": \"A piece of code that you can easily call over and over again\",\n",
    "}\n",
    "\n",
    "# retrieving elements in a dictionary\n",
    "print(programming_dict[\"Bug\"])\n",
    "\n",
    "# adding new items to a dict\n",
    "programming_dict[\"Loop\"] = \"The action of doing something over and over again\"\n",
    "\n",
    "# create new empty dict\n",
    "empty_dict = {}\n",
    "\n",
    "# edit an item in a dict\n",
    "programming_dict[\"Bug\"] = \"A moth in your computer\"\n",
    "\n",
    "# loop through a dict\n",
    "for key in programming_dict:\n",
    "    print(key)\n",
    "    print(programming_dict[key]) # access values of a dict "
   ]
  },
  {
   "cell_type": "markdown",
   "id": "0b59a751",
   "metadata": {},
   "source": [
    "#### Grading Program"
   ]
  },
  {
   "cell_type": "code",
   "execution_count": 18,
   "id": "e528aa3a",
   "metadata": {},
   "outputs": [
    {
     "name": "stdout",
     "output_type": "stream",
     "text": [
      "{'Harry': 'Exceeds Expectation', 'Ron': 'Acceptable', 'Draco': 'Acceptable', 'Hermione': 'Outstanding', 'Neville': 'Fail'}\n"
     ]
    }
   ],
   "source": [
    "student_scores = {\n",
    "    \"Harry\": 81,\n",
    "    \"Ron\": 78,\n",
    "    \"Draco\": 74,\n",
    "    \"Hermione\": 99,\n",
    "    \"Neville\": 62\n",
    "}\n",
    "\n",
    "student_grades = {}\n",
    "for scores in student_scores:\n",
    "    score = student_scores[scores]\n",
    "    if score > 90 and score < 101:\n",
    "        student_grades[scores] = \"Outstanding\"\n",
    "    elif score > 80 and score < 91:\n",
    "        student_grades[scores] = \"Exceeds Expectation\"\n",
    "    elif score > 70 and score < 81:\n",
    "        student_grades[scores] = \"Acceptable\"\n",
    "    elif score <= 70:\n",
    "        student_grades[scores] = \"Fail\"\n",
    "               \n",
    "\n",
    "print(student_grades)"
   ]
  },
  {
   "cell_type": "code",
   "execution_count": null,
   "id": "e7be2224",
   "metadata": {},
   "outputs": [],
   "source": [
    "# Nesting\n",
    "capitals = {\n",
    "    \"France\": \"Paris\",\n",
    "    \"Germany\": \"Berlin\"\n",
    "}\n",
    "\n",
    "# nesting dictionary inside a dict\n",
    "travel_log = {\n",
    "    \"France\": {\"cities_visited\":[\"Paris\", \"Monaco\", \"Lille\"], \"total_visits\": 12},\n",
    "    \"Germany\": {\"cities_visited\":[\"Berlin\", \"Munich\", \"Frankfurt\"], \"total_visits\": 4}\n",
    "}\n",
    "\n",
    "# Nesting a Dictionsry in a List\n",
    "travel_log = [\n",
    "    {\"country\": \"France\", \"cities_visited\":[\"Paris\", \"Monaco\", \"Lille\"], \"total_visits\": 12\n",
    "    },\n",
    "    {\"country\": \"Germany\",\"cities_visited\":[\"Berlin\", \"Munich\", \"Frankfurt\"], \"total_visits\": 4\n",
    "    }\n",
    "]\n"
   ]
  },
  {
   "cell_type": "code",
   "execution_count": 11,
   "id": "7afd03a7",
   "metadata": {},
   "outputs": [
    {
     "name": "stdout",
     "output_type": "stream",
     "text": [
      "[{'country': 'France', 'cities': ['Paris', 'Monaco', 'Lille'], 'visits': 12}, {'country': 'Germany', 'cities': ['Berlin', 'Munich', 'Frankfurt'], 'visits': 4}, {'country': 'Russia', 'cities': ['Moscow', 'St. Petersburg'], 'visits': 2}]\n"
     ]
    }
   ],
   "source": [
    "# add new dictionary to a list\n",
    "\n",
    "travel_log = [\n",
    "    {\"country\": \"France\",\n",
    "     \"cities\":[\"Paris\", \"Monaco\", \"Lille\"], \n",
    "     \"visits\": 12\n",
    "    },\n",
    "    {\"country\": \"Germany\",\n",
    "     \"cities\":[\"Berlin\", \"Munich\", \"Frankfurt\"], \n",
    "     \"visits\": 4\n",
    "    }\n",
    "]\n",
    "\n",
    "def add_new_country(country_, cities_, visits_):\n",
    "    new_trav = {}\n",
    "    new_trav[\"country\"] = country_\n",
    "    new_trav[\"cities\"] = cities_\n",
    "    new_trav[\"visits\"] = visits_\n",
    "    \n",
    "    travel_log.append(new_trav)\n",
    "    \n",
    "add_new_country(\"Russia\", [\"Moscow\", \"St. Petersburg\"], 2)    \n",
    "print(travel_log)"
   ]
  },
  {
   "cell_type": "markdown",
   "id": "0e9c9911",
   "metadata": {},
   "source": [
    "#### Secret Aunction Program"
   ]
  },
  {
   "cell_type": "code",
   "execution_count": 23,
   "id": "3b2211f9",
   "metadata": {},
   "outputs": [
    {
     "name": "stdout",
     "output_type": "stream",
     "text": [
      "Welcom to the Secret Aunction Bid!\n",
      "\n",
      "                         ___________\n",
      "                         \\         /\n",
      "                          )_______(\n",
      "                          |\"\"\"\"\"\"\"|_.-._,.---------.,_.-._\n",
      "                          |       | | |               | | ''-.\n",
      "                          |       |_| |_             _| |_..-'\n",
      "                          |_______| '-' `'---------'` '-'\n",
      "                          )\"\"\"\"\"\"\"(\n",
      "                         /_________\\\n",
      "                       .-------------.\n",
      "                      /_______________\\\n",
      "\n",
      "What is your name? Joseph\n",
      "What is your bid? $350\n",
      "Are there other bidders? Type 'yes' or 'no'. \n",
      "yes\n",
      "What is your name? Fin\n",
      "What is your bid? $312\n",
      "Are there other bidders? Type 'yes' or 'no'. \n",
      "no\n",
      "The winner of the bid aunction is Joseph with a bid of $350.\n"
     ]
    }
   ],
   "source": [
    "from art import logo\n",
    "import os\n",
    "\n",
    "print(\"Welcom to the Secret Aunction Bid!\")\n",
    "print(logo)\n",
    "\n",
    "endBid = False\n",
    "bid = {}\n",
    "\n",
    "def add_bid(bid):\n",
    "    highest_bid = 0\n",
    "    winner = \"\"\n",
    "    \n",
    "    for bidder in bid:\n",
    "        bid_price = bid[bidder]\n",
    "        if bid_price > highest_bid:\n",
    "            highest_bid = bid_price\n",
    "            winner = bidder\n",
    "    print(f\"The winner of the bid aunction is {winner} with a bid of ${highest_bid}.\")\n",
    "            \n",
    "while not endBid:\n",
    "    name = input(\"What is your name? \")\n",
    "    bid_price = int(input(\"What is your bid? $\"))\n",
    "    bid[name] = bid_price\n",
    "    another_bid = input(\"Are there other bidders? Type 'yes' or 'no'. \\n\").lower()\n",
    "\n",
    "    if another_bid == \"no\":\n",
    "        endBid = True\n",
    "        add_bid(bid)\n",
    "    elif another_bid == \"yes\":\n",
    "        os.system('cls')"
   ]
  },
  {
   "cell_type": "code",
   "execution_count": null,
   "id": "e5f4f823",
   "metadata": {},
   "outputs": [],
   "source": []
  }
 ],
 "metadata": {
  "kernelspec": {
   "display_name": "Python 3 (ipykernel)",
   "language": "python",
   "name": "python3"
  },
  "language_info": {
   "codemirror_mode": {
    "name": "ipython",
    "version": 3
   },
   "file_extension": ".py",
   "mimetype": "text/x-python",
   "name": "python",
   "nbconvert_exporter": "python",
   "pygments_lexer": "ipython3",
   "version": "3.10.9"
  }
 },
 "nbformat": 4,
 "nbformat_minor": 5
}
