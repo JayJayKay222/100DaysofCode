{
 "cells": [
  {
   "cell_type": "code",
   "execution_count": null,
   "metadata": {},
   "outputs": [],
   "source": []
  },
  {
   "cell_type": "markdown",
   "metadata": {},
   "source": [
    "### 🐍 100DaysOfCode 👨‍💻"
   ]
  },
  {
   "cell_type": "markdown",
   "metadata": {},
   "source": [
    "### Object Oriented Programming\n",
    "###### • Breaking down a task into smaller tasks\n",
    "###### • Module a real life scenario \n",
    "###### • attributes - variable associated with a moduled object (what it has)\n",
    "###### • method - a function an object can do (what it can do)\n",
    "###### • Object = attributes + method\n",
    "###### • Class = collection of objects"
   ]
  },
  {
   "cell_type": "markdown",
   "metadata": {},
   "source": [
    "### Constructing Class"
   ]
  },
  {
   "cell_type": "code",
   "execution_count": 2,
   "metadata": {},
   "outputs": [
    {
     "name": "stdout",
     "output_type": "stream",
     "text": [
      "<turtle.Turtle object at 0x000001F3A1B82470>\n"
     ]
    }
   ],
   "source": [
    "# Object = Class()\n",
    "from turtle import Turtle, Screen\n",
    "\n",
    "timmy = Turtle()\n",
    "print(timmy)\n",
    "timmy.shape(\"turtle\")\n",
    "timmy.color(\"green\")\n"
   ]
  },
  {
   "cell_type": "code",
   "execution_count": 3,
   "metadata": {},
   "outputs": [
    {
     "name": "stdout",
     "output_type": "stream",
     "text": [
      "300\n"
     ]
    }
   ],
   "source": [
    "# Object Attributes = Object.Attribute\n",
    "my_screen = Screen()\n",
    "print(my_screen.canvheight)"
   ]
  },
  {
   "cell_type": "code",
   "execution_count": null,
   "metadata": {},
   "outputs": [],
   "source": [
    "# Methods = Object.Method\n",
    "my_screen.exitonclick()\n",
    "timmy.color(\"green\")"
   ]
  },
  {
   "cell_type": "code",
   "execution_count": null,
   "metadata": {},
   "outputs": [],
   "source": [
    "# Python Packages - Code written others\n",
    "!pip install prettytable"
   ]
  },
  {
   "cell_type": "code",
   "execution_count": null,
   "metadata": {},
   "outputs": [],
   "source": [
    "from prettytable import PrettyTable\n",
    "\n",
    "table = PrettyTable() # object\n",
    "table.add_column(\"Pokemon Name\", [\"Pikachu\", \"Squirtle\", \"Charmander\"]) # method\n",
    "table.add_column(\"Type\", [\"Electric\", \"Water\", \"Fire\"]) # method\n",
    "table.align = \"l\" # attribute\n",
    "print(table)"
   ]
  },
  {
   "cell_type": "markdown",
   "metadata": {},
   "source": [
    "### Coffee Machine Program OOP "
   ]
  },
  {
   "cell_type": "code",
   "execution_count": 16,
   "metadata": {},
   "outputs": [
    {
     "name": "stdout",
     "output_type": "stream",
     "text": [
      "Hello! We have Latte, Espresso and Cappucino.\n",
      "What would you like to take? espresso\n",
      "Please insert coins.\n",
      "How many quarters?: 12\n",
      "How many dimes?: 20\n",
      "How many nickles?: 12\n",
      "How many pennies?: 12\n",
      "Here is $4.22 in change.\n",
      "Here is your espresso ☕️. Enjoy!\n",
      "What would you like to take? latte\n",
      "Please insert coins.\n",
      "How many quarters?: 12\n",
      "How many dimes?: 12\n",
      "How many nickles?: 12\n",
      "How many pennies?: 12\n",
      "Here is $2.42 in change.\n",
      "Here is your latte ☕️. Enjoy!\n",
      "What would you like to take? off\n"
     ]
    }
   ],
   "source": [
    "\"\"\" COFFEE MAKER MACHINE \"\"\"\n",
    "from menu import Menu, MenuItem\n",
    "from coffee_maker import CoffeeMaker\n",
    "from money_machine import MoneyMachine\n",
    "\n",
    "menu = Menu()\n",
    "coffee_maker = CoffeeMaker()\n",
    "money_machine = MoneyMachine()\n",
    "\n",
    "print(f\"Hello! We have Latte, Espresso and Cappucino.\")\n",
    "machine_on = True\n",
    "while machine_on:\n",
    "    # get available resources of the machine\n",
    "    menu.get_items()\n",
    "    user_coffee = input(\"What would you like to take? \").lower()\n",
    "    if user_coffee == \"off\":\n",
    "        machine_on = False\n",
    "        print(\"Thank you!\")\n",
    "    elif user_coffee == \"report\":\n",
    "        coffee_maker.report()\n",
    "        money_machine.report()\n",
    "    else:\n",
    "        get_drink = menu.find_drink(user_coffee)\n",
    "        # check resources available and amount paid and make coffee \n",
    "        if coffee_maker.is_resource_sufficient(get_drink) and money_machine.make_payment(get_drink.cost):\n",
    "            coffee_maker.make_coffee(get_drink)\n",
    "        "
   ]
  },
  {
   "cell_type": "markdown",
   "metadata": {},
   "source": [
    "# "
   ]
  }
 ],
 "metadata": {
  "kernelspec": {
   "display_name": "Python 3 (ipykernel)",
   "language": "python",
   "name": "python3"
  },
  "language_info": {
   "codemirror_mode": {
    "name": "ipython",
    "version": 3
   },
   "file_extension": ".py",
   "mimetype": "text/x-python",
   "name": "python",
   "nbconvert_exporter": "python",
   "pygments_lexer": "ipython3",
   "version": "3.10.9"
  }
 },
 "nbformat": 4,
 "nbformat_minor": 2
}
