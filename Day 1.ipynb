{
 "cells": [
  {
   "cell_type": "code",
   "execution_count": 1,
   "id": "ac077d15",
   "metadata": {},
   "outputs": [
    {
     "name": "stdout",
     "output_type": "stream",
     "text": [
      "Hello World!\n"
     ]
    }
   ],
   "source": [
    "# print function\n",
    "print(\"Hello World!\")"
   ]
  },
  {
   "cell_type": "code",
   "execution_count": 2,
   "id": "e01c550b",
   "metadata": {},
   "outputs": [
    {
     "name": "stdout",
     "output_type": "stream",
     "text": [
      "Day 1 - Python Print Function\n",
      "The function is declared like this:\n",
      "print('what to print')\n"
     ]
    }
   ],
   "source": [
    "print(\"Day 1 - Python Print Function\")\n",
    "print(\"The function is declared like this:\")\n",
    "print(\"print('what to print')\")"
   ]
  },
  {
   "cell_type": "code",
   "execution_count": 3,
   "id": "823c2b8d",
   "metadata": {},
   "outputs": [
    {
     "name": "stdout",
     "output_type": "stream",
     "text": [
      "Hello World\n",
      "Hello World\n",
      "Hello World\n"
     ]
    }
   ],
   "source": [
    "# string manipulation\n",
    "print(\"Hello World\\nHello World\\nHello World\") # multiple print function"
   ]
  },
  {
   "cell_type": "code",
   "execution_count": 4,
   "id": "19e75264",
   "metadata": {},
   "outputs": [
    {
     "name": "stdout",
     "output_type": "stream",
     "text": [
      "Hello Joseph\n"
     ]
    }
   ],
   "source": [
    "# str concatenation \n",
    "print(\"Hello\" + \" \" +\"Joseph\")"
   ]
  },
  {
   "cell_type": "code",
   "execution_count": 5,
   "id": "ac42c893",
   "metadata": {},
   "outputs": [
    {
     "name": "stdout",
     "output_type": "stream",
     "text": [
      "What is your name? Joseph\n",
      "Hello Joseph!\n"
     ]
    }
   ],
   "source": [
    "#input function\n",
    "print(\"Hello\" + \" \" + input(\"What is your name? \") +\"!\")"
   ]
  },
  {
   "cell_type": "code",
   "execution_count": 6,
   "id": "ab7c38a6",
   "metadata": {},
   "outputs": [
    {
     "name": "stdout",
     "output_type": "stream",
     "text": [
      "What is your name? Joseph\n",
      "6\n"
     ]
    }
   ],
   "source": [
    "# print the length of your name\n",
    "print(len(input(\"What is your name? \")))"
   ]
  },
  {
   "cell_type": "code",
   "execution_count": 7,
   "id": "719c6301",
   "metadata": {},
   "outputs": [
    {
     "name": "stdout",
     "output_type": "stream",
     "text": [
      "What is your name? Joseph\n",
      "6\n"
     ]
    }
   ],
   "source": [
    "# variables\n",
    "name  = input(\"What is your name? \")\n",
    "length = len(name)\n",
    "print(length)"
   ]
  },
  {
   "cell_type": "code",
   "execution_count": 8,
   "id": "5d17e9d3",
   "metadata": {},
   "outputs": [
    {
     "name": "stdout",
     "output_type": "stream",
     "text": [
      "a: 2\n",
      "b: 4\n",
      "a: 4\n",
      "b: 2\n"
     ]
    }
   ],
   "source": [
    "# switch th values of the variables\n",
    "a = input(\"a: \")\n",
    "b = input(\"b: \")\n",
    "\n",
    "c = a\n",
    "a = b\n",
    "b = c\n",
    "\n",
    "print(\"a: \" + a)\n",
    "print(\"b: \" + b)"
   ]
  },
  {
   "cell_type": "code",
   "execution_count": 9,
   "id": "76bb50e8",
   "metadata": {},
   "outputs": [
    {
     "name": "stdout",
     "output_type": "stream",
     "text": [
      "Welcome to the Band Name Generator\n",
      "What's the name of a citym you grew up in?\n",
      " Lagos\n",
      "What's your pet name? \n",
      "Cat\n",
      "Your band name could be Lagos Cat\n"
     ]
    }
   ],
   "source": [
    "# Band Name Generator\n",
    "print(\"Welcome to the Band Name Generator\")\n",
    "city = input(\"What's the name of a citym you grew up in?\\n \")\n",
    "pet = input(\"What's your pet name? \\n\")\n",
    "print(\"Your band name could be \" + city + \" \" + pet)"
   ]
  }
 ],
 "metadata": {
  "kernelspec": {
   "display_name": "Python 3 (ipykernel)",
   "language": "python",
   "name": "python3"
  },
  "language_info": {
   "codemirror_mode": {
    "name": "ipython",
    "version": 3
   },
   "file_extension": ".py",
   "mimetype": "text/x-python",
   "name": "python",
   "nbconvert_exporter": "python",
   "pygments_lexer": "ipython3",
   "version": "3.10.9"
  }
 },
 "nbformat": 4,
 "nbformat_minor": 5
}
