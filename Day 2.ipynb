{
 "cells": [
  {
   "cell_type": "markdown",
   "id": "6d526371",
   "metadata": {},
   "source": [
    "#### DATA TYPES\n",
    "\n",
    "- type() to investigate data type \n",
    "- f string takes multiple data types\n",
    "- type checking & type conversion"
   ]
  },
  {
   "cell_type": "code",
   "execution_count": null,
   "id": "e01c550b",
   "metadata": {
    "scrolled": false
   },
   "outputs": [],
   "source": [
    "# strings \n",
    "\"Hello\"\n",
    "\n",
    "# integers \n",
    "123\n",
    "\n",
    "# float\n",
    "3.143\n",
    "\n",
    "# boolean\n",
    "True \n",
    "False"
   ]
  },
  {
   "cell_type": "markdown",
   "id": "1e282583",
   "metadata": {},
   "source": [
    "#### - type checking & type conversion"
   ]
  },
  {
   "cell_type": "code",
   "execution_count": 38,
   "id": "823c2b8d",
   "metadata": {},
   "outputs": [
    {
     "name": "stdout",
     "output_type": "stream",
     "text": [
      "What is your name?Joseph\n",
      "Your name has 6 characters.\n"
     ]
    }
   ],
   "source": [
    "num_char = len(input(\"What is your name?\"))\n",
    "# convert int data type to str\n",
    "new_num_char = str(num_char)\n",
    "\n",
    "print(\"Your name has \" + new_num_char + \" characters.\")"
   ]
  },
  {
   "cell_type": "code",
   "execution_count": 39,
   "id": "19e75264",
   "metadata": {},
   "outputs": [
    {
     "name": "stdout",
     "output_type": "stream",
     "text": [
      "Provide 2 numbers:26\n",
      "8\n"
     ]
    }
   ],
   "source": [
    "# a program that adds digits in a 2 digits number\n",
    "\n",
    "add = input(\"Provide 2 numbers:\")\n",
    "first_num = add[0]\n",
    "second_num = add[1]\n",
    "result = int(first_num) + int(second_num)\n",
    "print(result)\n"
   ]
  },
  {
   "cell_type": "markdown",
   "id": "ae624d0e",
   "metadata": {},
   "source": [
    "#### - Mathematical operations"
   ]
  },
  {
   "cell_type": "code",
   "execution_count": null,
   "id": "ac42c893",
   "metadata": {
    "scrolled": true
   },
   "outputs": [],
   "source": [
    "2 + 4 # addition\n",
    "8 - 3 # subtraction\n",
    "5 * 3 # multiplication\n",
    "9 / 2 # division\n",
    "3 ** 3 # exponent"
   ]
  },
  {
   "cell_type": "code",
   "execution_count": 41,
   "id": "eca306f7",
   "metadata": {},
   "outputs": [
    {
     "name": "stdout",
     "output_type": "stream",
     "text": [
      "Enter your height in m: 1.8\n",
      "Enter your weight in kg: 82\n",
      "25\n"
     ]
    }
   ],
   "source": [
    "# a program that calculates the Body Mass Index (BMI)\n",
    "height = float(input(\"Enter your height in m: \"))\n",
    "weight = int(input(\"Enter your weight in kg: \"))\n",
    "\n",
    "BMI = weight/height ** 2\n",
    "print(int(BMI))"
   ]
  },
  {
   "cell_type": "markdown",
   "id": "1d7bf33f",
   "metadata": {},
   "source": [
    "#### - Number manipulation & F string"
   ]
  },
  {
   "cell_type": "code",
   "execution_count": 42,
   "id": "be126296",
   "metadata": {},
   "outputs": [
    {
     "name": "stdout",
     "output_type": "stream",
     "text": [
      "2.33\n",
      "2\n"
     ]
    }
   ],
   "source": [
    "print(round(7/3, 2))\n",
    "print(7//3)"
   ]
  },
  {
   "cell_type": "code",
   "execution_count": 43,
   "id": "5b3d832c",
   "metadata": {},
   "outputs": [
    {
     "name": "stdout",
     "output_type": "stream",
     "text": [
      "Your weight is 78 kg.\n"
     ]
    }
   ],
   "source": [
    "weight = 78\n",
    "print(f\"Your weight is {78} kg.\")"
   ]
  },
  {
   "cell_type": "code",
   "execution_count": 44,
   "id": "df7e3bfb",
   "metadata": {},
   "outputs": [
    {
     "name": "stdout",
     "output_type": "stream",
     "text": [
      "What is your age? 25\n",
      "You have 23725 days, 3380 weeks and 780 months left.\n"
     ]
    }
   ],
   "source": [
    "# write a program that tells how many years, months, days\n",
    "\n",
    "age = input(\"What is your age? \")\n",
    "age_int = int(age)\n",
    "\n",
    "years_rem = 90 -age_int\n",
    "weeks = years_rem * 52\n",
    "months = years_rem * 12\n",
    "days = years_rem * 365\n",
    "\n",
    "print(f\"You have {days} days, {weeks} weeks and {months} months left.\")"
   ]
  },
  {
   "cell_type": "code",
   "execution_count": 45,
   "id": "c0f61163",
   "metadata": {},
   "outputs": [
    {
     "name": "stdout",
     "output_type": "stream",
     "text": [
      "Welcome to the tip calculator.\n",
      "What was the total bill? \n",
      "$1463\n",
      "What percentage tip would you like to give? \n",
      " 10, 12 0r 15? \n",
      "12\n",
      "How many people to split the bill? \n",
      "5\n",
      "Each person should pay: $327.71.\n"
     ]
    }
   ],
   "source": [
    "# tip calculator\n",
    "\n",
    "print(\"Welcome to the tip calculator.\")\n",
    "\n",
    "total_bill = float(input(\"What was the total bill? \\n$\"))\n",
    "tip_per_person = int(input(\"What percentage tip would you like to give? \\n 10, 12 0r 15? \\n\"))\n",
    "tip_split = int(input(\"How many people to split the bill? \\n\"))\n",
    "tip_percent = tip_per_person / 100 \n",
    "total_tip = total_bill * tip_percent\n",
    "bill = total_bill + total_tip\n",
    "bill_per_person = (bill / tip_split)\n",
    "final_amount = \"{:.2f}\".format(bill_per_person)\n",
    "print(f\"Each person should pay: ${final_amount}.\")"
   ]
  }
 ],
 "metadata": {
  "kernelspec": {
   "display_name": "Python 3 (ipykernel)",
   "language": "python",
   "name": "python3"
  },
  "language_info": {
   "codemirror_mode": {
    "name": "ipython",
    "version": 3
   },
   "file_extension": ".py",
   "mimetype": "text/x-python",
   "name": "python",
   "nbconvert_exporter": "python",
   "pygments_lexer": "ipython3",
   "version": "3.10.9"
  }
 },
 "nbformat": 4,
 "nbformat_minor": 5
}
