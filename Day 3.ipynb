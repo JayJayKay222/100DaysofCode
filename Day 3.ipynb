{
 "cells": [
  {
   "cell_type": "markdown",
   "id": "33441b61",
   "metadata": {},
   "source": [
    "### CONTROL FLOW"
   ]
  },
  {
   "cell_type": "code",
   "execution_count": 2,
   "id": "e7105b1e",
   "metadata": {},
   "outputs": [
    {
     "name": "stdout",
     "output_type": "stream",
     "text": [
      "Welcome to the rollercoaster\n",
      "What is your height in cm?130\n",
      "You can ride the rollercoaster!\n"
     ]
    }
   ],
   "source": [
    "print(\"Welcome to the rollercoaster\")\n",
    "height = int(input(\"What is your height in cm?\"))\n",
    "\n",
    "if height >= 120:\n",
    "    print(\"You can ride the rollercoaster!\")\n",
    "else:\n",
    "    print(\"Sorry, you have to grow taller before you can ride.\")"
   ]
  },
  {
   "cell_type": "code",
   "execution_count": null,
   "id": "27b0d1f9",
   "metadata": {},
   "outputs": [],
   "source": [
    "# comparison operators \n",
    "# <\n",
    "# >\n",
    "# >=\n",
    "# <=\n",
    "# ==\n",
    "# !="
   ]
  },
  {
   "cell_type": "code",
   "execution_count": 4,
   "id": "402a77c2",
   "metadata": {},
   "outputs": [
    {
     "name": "stdout",
     "output_type": "stream",
     "text": [
      "Give a random number46\n",
      "The is a odd number.\n"
     ]
    }
   ],
   "source": [
    "# odd or even number \n",
    "number = int(input(\"Give a random number\"))\n",
    "\n",
    "if number % 2 == 0:\n",
    "    print(\"The is a odd number.\")\n",
    "else:\n",
    "    print(\"The is an even number.\")"
   ]
  },
  {
   "cell_type": "code",
   "execution_count": 32,
   "id": "6afe5867",
   "metadata": {},
   "outputs": [
    {
     "name": "stdout",
     "output_type": "stream",
     "text": [
      "Welcome to the rollercoaster\n",
      "What is your height in cm?180\n",
      "You can ride the rollercoaster!\n",
      "What is your age?51\n",
      "Have a free ride on us!.\n",
      "Do you want a photo taken? Y or N. N\n",
      "Your total bill is Free$. \n"
     ]
    }
   ],
   "source": [
    "print(\"Welcome to the rollercoaster\")\n",
    "height = int(input(\"What is your height in cm?\"))\n",
    "\n",
    "if height >= 120:\n",
    "    print(\"You can ride the rollercoaster!\")\n",
    "    age = int(input(\"What is your age?\"))\n",
    "    if age < 12:\n",
    "        bill = 5\n",
    "        print(\"Child tickets are $5.\")\n",
    "    elif age <= 18:\n",
    "        bill = 7\n",
    "        print(\"Youth tickets are $7.\")\n",
    "    elif age < 45:\n",
    "        print(\"Adult tickets are $12.\")\n",
    "        bill = 12\n",
    "    elif age >= 45 and age <= 55:\n",
    "        print(\"Have a free ride on us!.\")\n",
    "        bill = \"Free\"\n",
    "    photo = input(\"Do you want a photo taken? Y or N. \")\n",
    "    if photo ==\"Y\":\n",
    "        bill += 3\n",
    "    print(f\"Your total bill is {bill}$. \")    \n",
    "else:\n",
    "    print(\"Sorry, you have to grow taller before you can ride.\")"
   ]
  },
  {
   "cell_type": "markdown",
   "id": "5ac854c2",
   "metadata": {},
   "source": [
    "### BMI CALCULATOR"
   ]
  },
  {
   "cell_type": "code",
   "execution_count": 13,
   "id": "43176e34",
   "metadata": {},
   "outputs": [
    {
     "name": "stdout",
     "output_type": "stream",
     "text": [
      "Enter your height in m: 180\n",
      "Enter your weight in kg: 45\n",
      "Your BMI is 0. \n",
      "You are underweight.\n"
     ]
    }
   ],
   "source": [
    "# BMI 2.0\n",
    "height = float(input(\"Enter your height in m: \"))\n",
    "weight = float(input(\"Enter your weight in kg: \"))\n",
    "BMI = round(weight / height ** 2)\n",
    "print(f\"Your BMI is {BMI}. \")\n",
    "\n",
    "if BMI < 18.5:\n",
    "    print(\"You are underweight.\")\n",
    "elif BMI < 25:\n",
    "    print(\"You have a normal weight.\")\n",
    "elif BMI < 30:\n",
    "    print(\"You are overweight.\")\n",
    "elif BMI < 35:\n",
    "    print(\"You are obese.\")\n",
    "else:\n",
    "    print(\"You are clinically obese.\")"
   ]
  },
  {
   "cell_type": "code",
   "execution_count": 10,
   "id": "a5d67208",
   "metadata": {},
   "outputs": [
    {
     "name": "stdout",
     "output_type": "stream",
     "text": [
      "Which year do you want to check? 2024\n",
      "2024 is a leap year.\n",
      "2024 is a leap year.\n"
     ]
    }
   ],
   "source": [
    "# leap year\n",
    "year = int(input(\"Which year do you want to check? \"))\n",
    "\n",
    "if year % 4 == 0:\n",
    "    print(f\"{year} is a leap year.\")\n",
    "    if year % 100 == 0:\n",
    "        if year % 400 == 0:\n",
    "            print(f\"{year} is a Leap year.\")\n",
    "        else:\n",
    "            print(f\"{year} is not a leap year\")\n",
    "    else:\n",
    "        print(f\"{year} is a leap year.\")        \n",
    "else:\n",
    "    print(\"{year} is not a leap year.\")\n",
    "    "
   ]
  },
  {
   "cell_type": "markdown",
   "id": "a2b98d02",
   "metadata": {},
   "source": [
    "#### PIZZ ORDER "
   ]
  },
  {
   "cell_type": "code",
   "execution_count": 27,
   "id": "667d788c",
   "metadata": {},
   "outputs": [
    {
     "name": "stdout",
     "output_type": "stream",
     "text": [
      "Welcome to Python Pizza Deliveries!\n",
      "What size of pizza do you want?  S,M,LL\n",
      "Large Pizza: $25\n",
      "Do you want a pepperoni?  Y or NY\n",
      "Pepperoni for Small Pizza: +$2\n",
      "Do you want extra cheese?  Y or NY\n",
      "Extra cheese for any size pizza: +$1\n",
      "Your final bill is: $28.\n"
     ]
    }
   ],
   "source": [
    "print(\"Welcome to Python Pizza Deliveries!\")\n",
    "size = input(\"What size of pizza do you want?  S,M,L\")\n",
    "\n",
    "\n",
    "if size == \"S\":\n",
    "    price = 5\n",
    "    print(f\"Small Pizza: ${price}\")\n",
    "elif size == \"M\":\n",
    "    price = 20\n",
    "    print(f\"Medium Pizza: ${price}\")\n",
    "elif size == \"L\":\n",
    "    price = 25\n",
    "    print(f\"Large Pizza: ${price}\")\n",
    "    \n",
    "add_pepperoni = input(\"Do you want a pepperoni?  Y or N\")\n",
    "if add_pepperoni == \"Y\":\n",
    "    price += 2\n",
    "    print(f\"Pepperoni for Small Pizza: +$2\")\n",
    "else:\n",
    "    price += 3      \n",
    "    print(\"Pepperoni for Medium Pizza: +$3\")\n",
    "        \n",
    "extra_cheese = input(\"Do you want extra cheese?  Y or N\")\n",
    "if extra_cheese == \"Y\":\n",
    "    price += 1\n",
    "    print(\"Extra cheese for any size pizza: +$1\")\n",
    "    print(f\"Your final bill is: ${price}.\")         "
   ]
  },
  {
   "cell_type": "markdown",
   "id": "1ebfefb3",
   "metadata": {},
   "source": [
    "#### LOGICAL OPERATORS"
   ]
  },
  {
   "cell_type": "code",
   "execution_count": null,
   "id": "14335f8b",
   "metadata": {},
   "outputs": [],
   "source": [
    "# and - True if both condition is true\n",
    "# or - only false if both codition is false \n",
    "# not - reveses a condition"
   ]
  },
  {
   "cell_type": "markdown",
   "id": "0dd31db9",
   "metadata": {},
   "source": []
  },
  {
   "cell_type": "code",
   "execution_count": null,
   "id": "40f9dfaa",
   "metadata": {},
   "outputs": [],
   "source": []
  },
  {
   "cell_type": "markdown",
   "id": "579e5510",
   "metadata": {},
   "source": [
    "### LOVE CALCULATOR"
   ]
  },
  {
   "cell_type": "code",
   "execution_count": 9,
   "id": "cf35b4be",
   "metadata": {},
   "outputs": [
    {
     "name": "stdout",
     "output_type": "stream",
     "text": [
      "Welcome to the Love Calculator!\n",
      "What is your name? \n",
      "Johnson Joseph\n",
      "What is their name? \n",
      "William Florence\n",
      "Your score is 33\n"
     ]
    }
   ],
   "source": [
    "print(\"Welcome to the Love Calculator!\")\n",
    "name1 = input(\"What is your name? \\n\")\n",
    "name2 = input(\"What is their name? \\n\")\n",
    "\n",
    "comb_str = name1 + name2\n",
    "true_count = comb_str.lower().count(\"t\" and \"r\" and \"u\" and \"e\")\n",
    "love_count = comb_str.lower().count(\"l\" and \"o\" and \"v\" and \"e\")\n",
    "love_score = int(str(true_count) + str(love_count))\n",
    "\n",
    "\n",
    "if love_score < 10 or love_score > 90:\n",
    "    print(f\"Your score is {love_score}, you go together like coke and mentos.\")\n",
    "elif love_score >= 40 and love_score <= 50:\n",
    "    print(f\"Your score is {love_score}, you are alright together.\")\n",
    "else:\n",
    "    print(f\"Your score is {love_score}\")"
   ]
  },
  {
   "cell_type": "code",
   "execution_count": 5,
   "id": "4c2df3a5",
   "metadata": {},
   "outputs": [
    {
     "name": "stdout",
     "output_type": "stream",
     "text": [
      "\n",
      "\n",
      "*******************************************************************************\n",
      "          |                   |                  |                     |\n",
      " _________|________________.=\"\"_;=.______________|_____________________|_______\n",
      "|                   |  ,-\"_,=\"\"     `\"=.|                  |\n",
      "|___________________|__\"=._o`\"-._        `\"=.______________|___________________\n",
      "          |                `\"=._o`\"=._      _`\"=._                     |\n",
      " _________|_____________________:=._o \"=._.\"_.-=\"'\"=.__________________|_______\n",
      "|                   |    __.--\" , ; `\"=._o.\" ,-\"\"\"-._ \".   |\n",
      "|___________________|_._\"  ,. .` ` `` ,  `\"-._\"-._   \". '__|___________________\n",
      "          |           |o`\"=._` , \"` `; .\". ,  \"-._\"-._; ;              |\n",
      " _________|___________| ;`-.o`\"=._; .\" ` '`.\"\\` . \"-._ /_______________|_______\n",
      "|                   | |o;    `\"-.o`\"=._``  '` \" ,__.--o;   |\n",
      "|___________________|_| ;     (#) `-.o `\"=.`_.--\"_o.-; ;___|___________________\n",
      "____/______/______/___|o;._    \"      `\".o|o_.--\"    ;o;____/______/______/____\n",
      "/______/______/______/_\"=._o--._        ; | ;        ; ;/______/______/______/_\n",
      "____/______/______/______/__\"=._o--._   ;o|o;     _._;o;____/______/______/____\n",
      "/______/______/______/______/____\"=._o._; | ;_.--\"o.--\"_/______/______/______/_\n",
      "____/______/______/______/______/_____\"=.o|o_.--\"\"___/______/______/______/____\n",
      "/______/______/______/______/______/______/______/______/______/______/[TomekK]\n",
      "*******************************************************************************\n",
      "\n",
      "\n",
      "Welcome to the Treasure Island!\n",
      "Your mission is to find the magic treasure.\n",
      "Ypu are at a crossroad,Which way do you want to go? left or right\n",
      "left\n",
      "Will you swim or wait for the boat?  swim or wait \n",
      "swim'\n",
      "The treasure is in one of Red, Blue or Yellow doors. Which door do you want to open\n",
      "red\n",
      "Sorry, you did not find the treasure,Game Over!\n"
     ]
    }
   ],
   "source": [
    "print('''\n",
    "\n",
    "*******************************************************************************\n",
    "          |                   |                  |                     |\n",
    " _________|________________.=\"\"_;=.______________|_____________________|_______\n",
    "|                   |  ,-\"_,=\"\"     `\"=.|                  |\n",
    "|___________________|__\"=._o`\"-._        `\"=.______________|___________________\n",
    "          |                `\"=._o`\"=._      _`\"=._                     |\n",
    " _________|_____________________:=._o \"=._.\"_.-=\"'\"=.__________________|_______\n",
    "|                   |    __.--\" , ; `\"=._o.\" ,-\"\"\"-._ \".   |\n",
    "|___________________|_._\"  ,. .` ` `` ,  `\"-._\"-._   \". '__|___________________\n",
    "          |           |o`\"=._` , \"` `; .\". ,  \"-._\"-._; ;              |\n",
    " _________|___________| ;`-.o`\"=._; .\" ` '`.\"\\` . \"-._ /_______________|_______\n",
    "|                   | |o;    `\"-.o`\"=._``  '` \" ,__.--o;   |\n",
    "|___________________|_| ;     (#) `-.o `\"=.`_.--\"_o.-; ;___|___________________\n",
    "____/______/______/___|o;._    \"      `\".o|o_.--\"    ;o;____/______/______/____\n",
    "/______/______/______/_\"=._o--._        ; | ;        ; ;/______/______/______/_\n",
    "____/______/______/______/__\"=._o--._   ;o|o;     _._;o;____/______/______/____\n",
    "/______/______/______/______/____\"=._o._; | ;_.--\"o.--\"_/______/______/______/_\n",
    "____/______/______/______/______/_____\"=.o|o_.--\"\"___/______/______/______/____\n",
    "/______/______/______/______/______/______/______/______/______/______/[TomekK]\n",
    "*******************************************************************************\n",
    "\n",
    "''')\n",
    "print(\"Welcome to the Treasure Island!\")\n",
    "print(\"Your mission is to find the magic treasure.\")\n",
    "\n",
    "way = input(\"Ypu are at a crossroad,Which way do you want to go? left or right\\n\").lower()\n",
    "escape = input(\"Will you swim or wait for the boat?  swim or wait \\n\").lower()\n",
    "entrance = input(\"The treasure is in one of Red, Blue or Yellow doors. Which door do you want to open\\n\").lower()\n",
    "\n",
    "\n",
    "if way == \" left\":\n",
    "    if escape == \"swim\":\n",
    "        print(\"Sorry, you got eaten by a crocodile,Game Over!\")\n",
    "    elif escape == \"wait\":\n",
    "        if entrance == \"Red\":\n",
    "            print(\"Game Over\")\n",
    "        elif entrance == \"Yellow\":\n",
    "            print(\"Game Over\")\n",
    "        elif entrance == \"Blue\":\n",
    "            print(\"You win! You found the magic treasure\")\n",
    "        else:\n",
    "            print(\"Door not found\")\n",
    "    \n",
    "else:\n",
    "    print(\"Sorry, you did not find the treasure,Game Over!\")"
   ]
  },
  {
   "cell_type": "code",
   "execution_count": null,
   "id": "1f32bbb2",
   "metadata": {},
   "outputs": [],
   "source": []
  }
 ],
 "metadata": {
  "kernelspec": {
   "display_name": "Python 3 (ipykernel)",
   "language": "python",
   "name": "python3"
  },
  "language_info": {
   "codemirror_mode": {
    "name": "ipython",
    "version": 3
   },
   "file_extension": ".py",
   "mimetype": "text/x-python",
   "name": "python",
   "nbconvert_exporter": "python",
   "pygments_lexer": "ipython3",
   "version": "3.10.9"
  }
 },
 "nbformat": 4,
 "nbformat_minor": 5
}
