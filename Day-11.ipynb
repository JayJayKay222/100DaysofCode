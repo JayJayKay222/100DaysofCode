{
 "cells": [
  {
   "cell_type": "markdown",
   "id": "a4f89e87",
   "metadata": {},
   "source": [
    "### 👨‍💻100DaysofPythonCode 🐍"
   ]
  },
  {
   "cell_type": "markdown",
   "id": "51bbb536",
   "metadata": {},
   "source": [
    "## Capstone Project: BLACKJACK / 21"
   ]
  },
  {
   "cell_type": "code",
   "execution_count": 32,
   "id": "b0ca61c5",
   "metadata": {},
   "outputs": [
    {
     "name": "stdout",
     "output_type": "stream",
     "text": [
      "Your cards: [2, 4], current score: 6\n",
      "Computer's cards: 2\n",
      "\n",
      "Do you want to draw another card? \n",
      "Type 'yes' or 'no' : yes\n",
      "Your cards: [2, 4, 10], current score: 16\n",
      "Computer's cards: 2\n",
      "\n",
      "Do you want to draw another card? \n",
      "Type 'yes' or 'no' : yes\n",
      "Your cards: [2, 4, 10, 4], current score: 20\n",
      "Computer's cards: 2\n",
      "\n",
      "Do you want to draw another card? \n",
      "Type 'yes' or 'no' : yes\n",
      "Your cards: [2, 4, 10, 4, 5], current score: 25\n",
      "Computer's cards: 2\n",
      "\n",
      "  Your final hand: [2, 4, 10, 4, 5], final score: 25\n",
      "  Computer's final hand: [2, 4, 3, 6, 10], final score: 25\n",
      "\n",
      "Draw 🙃\n"
     ]
    }
   ],
   "source": [
    "import random \n",
    "from art import logo\n",
    "\n",
    "\n",
    "def deal_card():\n",
    "    \n",
    "    cards = [11, 2, 3, 4, 5, 6, 7, 8, 9, 10, 10, 10, 10]\n",
    "    card = random.choice(cards)\n",
    "    return card\n",
    "\n",
    "def calculate_score(cards):\n",
    "    \"\"\" Take a list of cards and return the calculated score \"\"\"\n",
    "    if sum(cards) == 21 and len(cards) == 2:\n",
    "        return 0\n",
    "\n",
    "    if 11 in cards and sum(cards) > 21:\n",
    "        cards.remove(11)\n",
    "        cards.append(1)\n",
    "    return sum(cards)\n",
    "\n",
    "\n",
    "def compare(user_score, computer_score):\n",
    "    if user_score == computer_score:\n",
    "        return \"Draw 🙃\"\n",
    "    elif computer_score == 0:\n",
    "        return \"Lose, opponent has Blackjack 😱\"\n",
    "    elif user_score == 0:\n",
    "        return \"You win with a Blackjack 😎\"\n",
    "    elif user_score > 21:\n",
    "        return \"You lose 😭\"\n",
    "    elif computer_score > 21:\n",
    "        return \"Opponent went over. You win 😁\"\n",
    "    elif user_score > computer_score:\n",
    "        return \"You win 😃\"\n",
    "    else:\n",
    "        return \"You lose 😤\"\n",
    "        \n",
    "\n",
    "    print(logo)\n",
    "\n",
    "user_cards = []\n",
    "computer_cards = []\n",
    "game_End = False\n",
    "\n",
    "for _ in range(2):\n",
    "    user_cards.append(deal_card())\n",
    "    computer_cards.append(deal_card())\n",
    "\n",
    "\n",
    "while not game_End:\n",
    "    user_score = calculate_score(user_cards)\n",
    "    computer_score = calculate_score(computer_cards)\n",
    "    print(f\"Your cards: {user_cards}, current score: {user_score}\")\n",
    "    print(f\"Computer's cards: {computer_cards[0]}\\n\")\n",
    "\n",
    "    if user_score == 0 or computer_score == 0 or user_score > 21:\n",
    "        game_End = True\n",
    "    else:\n",
    "        another_card = input(\"Do you want to draw another card? \\nType 'yes' or 'no' : \")\n",
    "\n",
    "        if another_card == 'yes':\n",
    "            user_cards.append(deal_card())\n",
    "        else:\n",
    "            game_End = True\n",
    "\n",
    "while computer_score < 17 and computer_score !=0:\n",
    "    computer_cards.append(deal_card())\n",
    "    computer_score = calculate_score(computer_cards)\n",
    "\n",
    "print(f\"  Your final hand: {user_cards}, final score: {user_score}\")\n",
    "print(f\"  Computer's final hand: {computer_cards}, final score: {computer_score}\\n\")\n",
    "print(compare(user_score, computer_score))\n",
    "\n"
   ]
  },
  {
   "cell_type": "code",
   "execution_count": null,
   "id": "dd594d2a",
   "metadata": {},
   "outputs": [],
   "source": []
  }
 ],
 "metadata": {
  "kernelspec": {
   "display_name": "Python 3 (ipykernel)",
   "language": "python",
   "name": "python3"
  },
  "language_info": {
   "codemirror_mode": {
    "name": "ipython",
    "version": 3
   },
   "file_extension": ".py",
   "mimetype": "text/x-python",
   "name": "python",
   "nbconvert_exporter": "python",
   "pygments_lexer": "ipython3",
   "version": "3.10.9"
  }
 },
 "nbformat": 4,
 "nbformat_minor": 5
}
