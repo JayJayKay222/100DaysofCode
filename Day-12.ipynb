{
 "cells": [
  {
   "cell_type": "markdown",
   "id": "a4f89e87",
   "metadata": {},
   "source": [
    "### 👨‍💻100DaysofPythonCode 🐍"
   ]
  },
  {
   "cell_type": "markdown",
   "id": "c2932782",
   "metadata": {},
   "source": [
    "### Scope"
   ]
  },
  {
   "cell_type": "code",
   "execution_count": null,
   "id": "70f88de5",
   "metadata": {},
   "outputs": [],
   "source": [
    "# avoid modifying a global scope instead use return statement\n",
    "# there is block scope in python\n",
    "# global scope is useful when defining constants"
   ]
  },
  {
   "cell_type": "code",
   "execution_count": 1,
   "id": "271272eb",
   "metadata": {},
   "outputs": [
    {
     "name": "stdout",
     "output_type": "stream",
     "text": [
      "eniemies inside function 2\n",
      "enemies outside function: 1\n"
     ]
    }
   ],
   "source": [
    "# Modifying Global scope\n",
    "\n",
    "enemies = 1\n",
    "\n",
    "def increase_enemies():\n",
    "    global enemies\n",
    "    enemies += 1\n",
    "    print(f\"eniemies inside function {enemies}\")\n",
    "increase_enemies()    \n",
    "print(f\"enemies outside function: {enemies}\")"
   ]
  },
  {
   "cell_type": "code",
   "execution_count": 6,
   "id": "bb1af93e",
   "metadata": {},
   "outputs": [
    {
     "name": "stdout",
     "output_type": "stream",
     "text": [
      "2\n",
      "10\n"
     ]
    }
   ],
   "source": [
    "# local scope (within the function)\n",
    "\n",
    "def drink_potion():\n",
    "    potion_strength = 2\n",
    "    print(potion_strength)\n",
    "    \n",
    "drink_potion()   \n",
    "\n",
    "# Global scope (outside and within the function)\n",
    "\n",
    "player_health = 10\n",
    "def drink_potion():\n",
    "    potion_strength = 2\n",
    "    print(player_health)\n",
    "    \n",
    "drink_potion()   "
   ]
  },
  {
   "cell_type": "markdown",
   "id": "0de16e64",
   "metadata": {},
   "source": [
    "#### Number Guessing Game"
   ]
  },
  {
   "cell_type": "code",
   "execution_count": 15,
   "id": "efe2615d",
   "metadata": {},
   "outputs": [
    {
     "name": "stdout",
     "output_type": "stream",
     "text": [
      "Welcome to the Number Guessing Game!\n",
      "I'm thinking of a number between 1 and 100.\n",
      "\n",
      "Choose a difficulty. Type 'easy' or 'hard': hard\n",
      "You have 5 attempts remaining to guess the number.\n",
      "Make a guess: 33\n",
      "Too Low.\n",
      "Guess again.\n",
      "\n",
      "You have 4 attempts remaining to guess the number.\n",
      "Make a guess: 47\n",
      "Too Low.\n",
      "Guess again.\n",
      "\n",
      "You have 3 attempts remaining to guess the number.\n",
      "Make a guess: 62\n",
      "Too Low.\n",
      "Guess again.\n",
      "\n",
      "You have 2 attempts remaining to guess the number.\n",
      "Make a guess: 73\n",
      "Too Low.\n",
      "Guess again.\n",
      "\n",
      "You have 1 attempts remaining to guess the number.\n",
      "Make a guess: 92\n",
      "Too High.\n",
      "You exhaustesd your attempts, Game over!\n",
      "The acutal number is 75.\n",
      "Do you want to play again?\n",
      " Enter 'yes'n or 'no': no\n",
      "Goodluck!\n"
     ]
    }
   ],
   "source": [
    "\n",
    "import random\n",
    "\n",
    "GameOver = False\n",
    "EASY = 10\n",
    "HARD = 5\n",
    "\n",
    "def difficulty():\n",
    "    level = input(\"Choose a difficulty. Type 'easy' or 'hard': \").lower()\n",
    "    if level == \"easy\":\n",
    "        return EASY\n",
    "    elif level == \"hard\":\n",
    "        return HARD\n",
    "    \n",
    "\n",
    "# Function to check if the user guess is right or not     \n",
    "def check_guess(user_guess, actual_number, attempts):\n",
    "    if user_guess > actual_number:\n",
    "        print(\"Too High.\")\n",
    "        return attempts - 1\n",
    "    elif user_guess < actual_number:\n",
    "        print(\"Too Low.\")\n",
    "        return attempts - 1\n",
    "    elif user_guess == actual_number:\n",
    "        print(f\"You got it! The number was {actual_number}.\")\n",
    "\n",
    "# a Function game() to play the game         \n",
    "def game():\n",
    "    \n",
    "    print(\"Welcome to the Number Guessing Game!\")\n",
    "    print(\"I'm thinking of a number between 1 and 100.\\n\")\n",
    "    actual_number = random.randint(1, 100)\n",
    "    attempts = difficulty()\n",
    "    \n",
    "    # continue asking the user for a guess while the game is not over\n",
    "    GameOver = False\n",
    "    while not GameOver:\n",
    "        print(f\"You have {attempts} attempts remaining to guess the number.\")\n",
    "        \n",
    "        user_guess = int(input(\"Make a guess: \"))\n",
    "        attempts = check_guess(user_guess, actual_number, attempts)\n",
    "        # check the user reamining attmpts to continue in the game or not\n",
    "        if user_guess != actual_number and attempts != 0:\n",
    "            print(\"Guess again.\\n\")\n",
    "        elif attempts == 0:\n",
    "            print(\"You exhaustesd your attempts, Game over!\")\n",
    "            print(f\"The acutal number is {actual_number}.\")\n",
    "            GameOver = True\n",
    "            # restart game \n",
    "            restart = input(\"Do you want to play again?\\n Enter 'yes'n or 'no': \").lower()\n",
    "            if restart == \"yes\":\n",
    "                game()\n",
    "                # reset the number of attempts\n",
    "                attempts = difficulty()\n",
    "            else:\n",
    "                print(\"Goodluck!\")\n",
    "                GameOver = True\n",
    "        else:\n",
    "            GameOver = True\n",
    "game()"
   ]
  }
 ],
 "metadata": {
  "kernelspec": {
   "display_name": "Python 3 (ipykernel)",
   "language": "python",
   "name": "python3"
  },
  "language_info": {
   "codemirror_mode": {
    "name": "ipython",
    "version": 3
   },
   "file_extension": ".py",
   "mimetype": "text/x-python",
   "name": "python",
   "nbconvert_exporter": "python",
   "pygments_lexer": "ipython3",
   "version": "3.10.9"
  }
 },
 "nbformat": 4,
 "nbformat_minor": 5
}
