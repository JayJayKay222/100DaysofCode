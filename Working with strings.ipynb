{
 "cells": [
  {
   "cell_type": "markdown",
   "id": "15110920",
   "metadata": {},
   "source": [
    "#### WORKING WITH STRINGS"
   ]
  },
  {
   "cell_type": "code",
   "execution_count": 1,
   "id": "72b0c9a7-77d5-4c77-ba0d-3fabdb2255d4",
   "metadata": {},
   "outputs": [
    {
     "name": "stdout",
     "output_type": "stream",
     "text": [
      "everyday practice coding python\n"
     ]
    }
   ],
   "source": [
    "# string reverse words \n",
    "string = \"python coding practice everyday\"\n",
    "s = string.split()[:: -1]\n",
    "l = []\n",
    "for i in s:\n",
    "    l.append(i)\n",
    "print(\" \".join(l))"
   ]
  },
  {
   "cell_type": "code",
   "execution_count": 2,
   "id": "6d699ee6",
   "metadata": {},
   "outputs": [
    {
     "name": "stdout",
     "output_type": "stream",
     "text": [
      "Practice make perfect!\n"
     ]
    }
   ],
   "source": [
    "# remove characters from a string \n",
    "test_str = \"Practices makes perfect!\"\n",
    "new_str = test_str.replace('s','',8) # replace index 8\n",
    "print(new_str)"
   ]
  },
  {
   "cell_type": "code",
   "execution_count": 3,
   "id": "18eb9998",
   "metadata": {},
   "outputs": [
    {
     "name": "stdout",
     "output_type": "stream",
     "text": [
      "Practice makes perfect!\n"
     ]
    }
   ],
   "source": [
    "# using str.join() + list comprehension\n",
    "\n",
    "new_str = ''.join([test_str[i] for i in range(len(test_str)) if i != 8])\n",
    "print(new_str)"
   ]
  },
  {
   "cell_type": "code",
   "execution_count": 4,
   "id": "c7aaf991",
   "metadata": {},
   "outputs": [
    {
     "name": "stdout",
     "output_type": "stream",
     "text": [
      "True\n",
      "False\n"
     ]
    }
   ],
   "source": [
    "# check if a str has letter and number \n",
    "import re\n",
    "\n",
    "def checkString(str):\n",
    "    \"\"\" using regex to check if a string contains letter and nuber\"\"\"\n",
    "    match = re.search(r'[a-zA-Z]+', str) and re.search(r'[0-9]+', str)\n",
    "    if match:\n",
    "        return True\n",
    "    else:\n",
    "        return False\n",
    "print(checkString('johnsonkehinde202@gmail.com'))\n",
    "print(checkString('Happy New Year'))"
   ]
  },
  {
   "cell_type": "code",
   "execution_count": 5,
   "id": "a8dd6835",
   "metadata": {},
   "outputs": [
    {
     "name": "stdout",
     "output_type": "stream",
     "text": [
      "True\n",
      "False\n"
     ]
    }
   ],
   "source": [
    "# using lambda func\n",
    "checkString = lambda s: any(c.isalpha() for c in s) and any(c.isdigit() for c in s)\n",
    "print(checkString('johnsonkehinde202@gmail.com'))\n",
    "print(checkString('Happy New Year'))"
   ]
  },
  {
   "cell_type": "code",
   "execution_count": 6,
   "id": "6792e1a9",
   "metadata": {},
   "outputs": [
    {
     "name": "stdout",
     "output_type": "stream",
     "text": [
      "This string contains special character\n"
     ]
    }
   ],
   "source": [
    "# check if a string contains special character\n",
    "n = \"Happy#N@ewYear()\"\n",
    "n.split()\n",
    "c = 0\n",
    "s = '[@%&*(!<>#()?{}+-[=|/\\~_])]'\n",
    "for i in range(len(n)):\n",
    "    if n[i] in s:\n",
    "        c += 1\n",
    "if c:\n",
    "    print(\"This string contains special character\")\n",
    "else:\n",
    "    print(\"String is okay\")"
   ]
  },
  {
   "cell_type": "code",
   "execution_count": 7,
   "id": "697355ce",
   "metadata": {},
   "outputs": [
    {
     "name": "stdout",
     "output_type": "stream",
     "text": [
      "['everyday', 'Practice']\n"
     ]
    }
   ],
   "source": [
    "# find uncommon words in from two strings\n",
    "def UncommonWords(A,B):\n",
    "    A = A.split()\n",
    "    B = B.split()\n",
    "    x = []\n",
    "    for i in A:\n",
    "        if i not in B:\n",
    "            x.append(i)\n",
    "    for i in B:\n",
    "        if i not in A:\n",
    "            x.append(i)\n",
    "    x = list(set(x))\n",
    "    return x\n",
    "\n",
    "A = \"Practice python coding everyday\"\n",
    "B = \"python coding\"\n",
    "print(UncommonWords(A,B))"
   ]
  },
  {
   "cell_type": "code",
   "execution_count": 8,
   "id": "35cba322",
   "metadata": {},
   "outputs": [
    {
     "name": "stdout",
     "output_type": "stream",
     "text": [
      "Url:  ['https://github.com/JayJayMedia?tab=repositories', 'https://github.com/JayJayMedia/US-ACCIDENT-EXPLORATORY-DATA-ANALYSIS']\n"
     ]
    }
   ],
   "source": [
    "# check for URL in a string\n",
    "def Find(string):\n",
    "    x = string.split()\n",
    "    res = []\n",
    "    for i in x:\n",
    "        if i.find(\"https:\") == 0 or i.find(\"https:\") == 0:\n",
    "            res.append(i)\n",
    "    return res\n",
    "string = \"My GitHub repo: https://github.com/JayJayMedia?tab=repositories with a project https://github.com/JayJayMedia/US-ACCIDENT-EXPLORATORY-DATA-ANALYSIS\"\n",
    "print(\"Url: \", Find(string))\n"
   ]
  }
 ],
 "metadata": {
  "kernelspec": {
   "display_name": "Python 3 (ipykernel)",
   "language": "python",
   "name": "python3"
  },
  "language_info": {
   "codemirror_mode": {
    "name": "ipython",
    "version": 3
   },
   "file_extension": ".py",
   "mimetype": "text/x-python",
   "name": "python",
   "nbconvert_exporter": "python",
   "pygments_lexer": "ipython3",
   "version": "3.10.9"
  }
 },
 "nbformat": 4,
 "nbformat_minor": 5
}
