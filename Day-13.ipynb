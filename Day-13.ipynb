{
 "cells": [
  {
   "cell_type": "markdown",
   "id": "ac680192",
   "metadata": {},
   "source": [
    "### 👨‍💻  100DaysofCode 🐍"
   ]
  },
  {
   "cell_type": "markdown",
   "id": "34c378fd",
   "metadata": {},
   "source": [
    "### Debugging: Finding and Fixing Errors"
   ]
  },
  {
   "cell_type": "markdown",
   "id": "7c394962",
   "metadata": {},
   "source": [
    "####  1. Describe the problem \n",
    "####  2. Reproduce the Bug (Notice where the error is)\n",
    "####  3. Evaluate each line\n",
    "####  4. Fix the Errors (Copy the error and search on Google)\n",
    "####  5.  Use print() to break doen the problem\n",
    "####  6. Use a Debugger (pythontutor, Thonny)\n",
    "####  7. Take a Break\n",
    "####  8. Ask a Friend\n",
    "####  9. Run your code often\n",
    "####  10. Ask Stackoverflow"
   ]
  }
 ],
 "metadata": {
  "kernelspec": {
   "display_name": "Python 3 (ipykernel)",
   "language": "python",
   "name": "python3"
  },
  "language_info": {
   "codemirror_mode": {
    "name": "ipython",
    "version": 3
   },
   "file_extension": ".py",
   "mimetype": "text/x-python",
   "name": "python",
   "nbconvert_exporter": "python",
   "pygments_lexer": "ipython3",
   "version": "3.10.9"
  }
 },
 "nbformat": 4,
 "nbformat_minor": 5
}
