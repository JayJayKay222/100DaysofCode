{
 "cells": [
  {
   "cell_type": "markdown",
   "id": "ff058c24",
   "metadata": {},
   "source": [
    "### 👨‍💻 Day 6 of 100DaysofPythonCode 🐍\n",
    "    - Function \n",
    "    - Code Blocks\n",
    "    - While loops\n",
    "    - "
   ]
  },
  {
   "cell_type": "code",
   "execution_count": 2,
   "id": "9393148b",
   "metadata": {},
   "outputs": [
    {
     "name": "stdout",
     "output_type": "stream",
     "text": [
      "Hello\n"
     ]
    }
   ],
   "source": [
    "def my_function():\n",
    "    print(\"Hello\")\n",
    "my_function()    "
   ]
  },
  {
   "cell_type": "code",
   "execution_count": 1,
   "id": "9d6bb334",
   "metadata": {
    "scrolled": true
   },
   "outputs": [
    {
     "name": "stdout",
     "output_type": "stream",
     "text": [
      "5\n",
      "4\n",
      "3\n",
      "2\n",
      "1\n",
      "0\n"
     ]
    }
   ],
   "source": [
    "# while loop \n",
    "number = 6\n",
    "while number > 0:\n",
    "    number -= 1\n",
    "    print(number)\n",
    "    "
   ]
  },
  {
   "cell_type": "markdown",
   "id": "6e81f9af",
   "metadata": {},
   "source": []
  },
  {
   "cell_type": "markdown",
   "id": "57d5adb3",
   "metadata": {},
   "source": []
  },
  {
   "cell_type": "markdown",
   "id": "43081dbf",
   "metadata": {},
   "source": []
  },
  {
   "cell_type": "markdown",
   "id": "e90aa74b",
   "metadata": {},
   "source": []
  },
  {
   "cell_type": "markdown",
   "id": "7185ef6c",
   "metadata": {},
   "source": []
  }
 ],
 "metadata": {
  "kernelspec": {
   "display_name": "Python 3 (ipykernel)",
   "language": "python",
   "name": "python3"
  },
  "language_info": {
   "codemirror_mode": {
    "name": "ipython",
    "version": 3
   },
   "file_extension": ".py",
   "mimetype": "text/x-python",
   "name": "python",
   "nbconvert_exporter": "python",
   "pygments_lexer": "ipython3",
   "version": "3.10.9"
  }
 },
 "nbformat": 4,
 "nbformat_minor": 5
}
